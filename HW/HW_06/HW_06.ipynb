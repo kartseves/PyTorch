{
 "cells": [
  {
   "cell_type": "code",
   "execution_count": 1,
   "id": "e7abeed4",
   "metadata": {},
   "outputs": [],
   "source": [
    "import numpy as np\n",
    "import pandas as pd\n",
    "import matplotlib.pyplot as plt\n",
    "\n",
    "from tqdm.notebook import tqdm\n",
    "import datetime as dt\n",
    "\n",
    "from sklearn.datasets import fetch_20newsgroups\n",
    "from sklearn.model_selection import train_test_split\n",
    "from sklearn.metrics import classification_report, confusion_matrix, ConfusionMatrixDisplay"
   ]
  },
  {
   "cell_type": "markdown",
   "id": "3206f916",
   "metadata": {
    "colab_type": "text",
    "id": "qEyvOxoOJDTP"
   },
   "source": [
    "### Загрузка данных"
   ]
  },
  {
   "cell_type": "code",
   "execution_count": 2,
   "id": "a0383d24",
   "metadata": {},
   "outputs": [],
   "source": [
    "data_train = fetch_20newsgroups(subset='train', \n",
    "                                shuffle=True, random_state=42)\n",
    "\n",
    "data_test = fetch_20newsgroups(subset='test', \n",
    "                               shuffle=False)"
   ]
  },
  {
   "cell_type": "code",
   "execution_count": 3,
   "id": "669d71af",
   "metadata": {},
   "outputs": [],
   "source": [
    "df_train, df_val, y_train, y_val = train_test_split(pd.DataFrame(data_train.data, columns=['text']),\n",
    "                                                    data_train.target,\n",
    "                                                    test_size=0.3, random_state=42)\n",
    "\n",
    "df_train.reset_index(drop=True, inplace=True)\n",
    "df_val.reset_index(drop=True, inplace=True)\n",
    "\n",
    "df_test = pd.DataFrame(data_test.data, columns=['text'])\n",
    "y_test = data_test.target"
   ]
  },
  {
   "cell_type": "markdown",
   "id": "e5b2b58a",
   "metadata": {
    "colab_type": "text",
    "id": "qEyvOxoOJDTP"
   },
   "source": [
    "### Предобработка"
   ]
  },
  {
   "cell_type": "code",
   "execution_count": 4,
   "id": "dcc88650",
   "metadata": {},
   "outputs": [
    {
     "name": "stderr",
     "output_type": "stream",
     "text": [
      "[nltk_data] Downloading package punkt to\n",
      "[nltk_data]     C:\\Users\\Kartsev.ES\\AppData\\Roaming\\nltk_data...\n",
      "[nltk_data]   Package punkt is already up-to-date!\n"
     ]
    }
   ],
   "source": [
    "from string import punctuation\n",
    "from stop_words import get_stop_words\n",
    "from pymorphy2 import MorphAnalyzer\n",
    "import re\n",
    "\n",
    "import nltk\n",
    "from nltk.tokenize import word_tokenize\n",
    "from nltk.probability import FreqDist\n",
    "\n",
    "nltk.download(\"punkt\")\n",
    "\n",
    "sw = set(get_stop_words(\"en\"))\n",
    "exclude = set(punctuation)\n",
    "morpher = MorphAnalyzer()"
   ]
  },
  {
   "cell_type": "code",
   "execution_count": 5,
   "id": "00472974",
   "metadata": {},
   "outputs": [],
   "source": [
    "def preprocess_text(txt):\n",
    "    txt = str(txt)\n",
    "    txt = \"\".join(c for c in txt if c not in exclude)\n",
    "    txt = txt.lower()\n",
    "    txt = [morpher.parse(word)[0].normal_form for word in txt.split() if word not in sw]\n",
    "    return \" \".join(txt)\n",
    "\n",
    "df_train['text'] = df_train['text'].apply(preprocess_text)\n",
    "df_val['text'] = df_val['text'].apply(preprocess_text)\n",
    "df_test['text'] = df_test['text'].apply(preprocess_text)"
   ]
  },
  {
   "cell_type": "code",
   "execution_count": 6,
   "id": "3f96bf2d",
   "metadata": {},
   "outputs": [],
   "source": [
    "train_corpus = \" \".join(df_train[\"text\"])\n",
    "train_corpus = train_corpus.lower()"
   ]
  },
  {
   "cell_type": "code",
   "execution_count": 7,
   "id": "860fcf0e",
   "metadata": {},
   "outputs": [],
   "source": [
    "tokens = word_tokenize(train_corpus)"
   ]
  },
  {
   "cell_type": "code",
   "execution_count": 8,
   "id": "bac36ec6",
   "metadata": {},
   "outputs": [],
   "source": [
    "tokens_filtered = [word for word in tokens if word.isalnum()]\n",
    "dist = FreqDist(tokens_filtered)"
   ]
  },
  {
   "cell_type": "code",
   "execution_count": 9,
   "id": "fccc1bfe",
   "metadata": {},
   "outputs": [],
   "source": [
    "def get_vocabulary(max_words):\n",
    "    tokens_filtered_top = [pair[0] for pair in dist.most_common(max_words-1)]\n",
    "    vocabulary = {v: k for k, v in dict(enumerate(tokens_filtered_top, 1)).items()}\n",
    "    return vocabulary"
   ]
  },
  {
   "cell_type": "code",
   "execution_count": 10,
   "id": "ef7ce7a9",
   "metadata": {},
   "outputs": [],
   "source": [
    "def text_to_sequence(text, maxlen, vocabulary):\n",
    "    result = []\n",
    "    tokens = word_tokenize(text.lower())\n",
    "    tokens_filtered = [word for word in tokens if word.isalnum()]\n",
    "    for word in tokens_filtered:\n",
    "        if word in vocabulary:\n",
    "            result.append(vocabulary[word])\n",
    "    padding = [0]*(maxlen-len(result))\n",
    "    return padding + result[-maxlen:]"
   ]
  },
  {
   "cell_type": "code",
   "execution_count": 11,
   "id": "279f2949",
   "metadata": {},
   "outputs": [],
   "source": [
    "def prepare_data(max_words, max_len):\n",
    "    vocabulary = get_vocabulary(max_words)\n",
    "    x_train = np.asarray([text_to_sequence(text, max_len, vocabulary) for text in df_train[\"text\"]], dtype=np.int32)\n",
    "    x_val = np.asarray([text_to_sequence(text, max_len, vocabulary) for text in df_val[\"text\"]], dtype=np.int32)\n",
    "    x_test = np.asarray([text_to_sequence(text, max_len, vocabulary) for text in df_test[\"text\"]], dtype=np.int32)\n",
    "    print(f'x_train.shape: {x_train.shape}')\n",
    "    print(f'x_val.shape: {x_val.shape}')\n",
    "    print(f'x_test.shape: {x_test.shape}')\n",
    "    return x_train, x_val, x_test, vocabulary"
   ]
  },
  {
   "cell_type": "markdown",
   "id": "1ecd073e",
   "metadata": {
    "colab_type": "text",
    "id": "qEyvOxoOJDTP"
   },
   "source": [
    "### Модель"
   ]
  },
  {
   "cell_type": "code",
   "execution_count": 12,
   "id": "4c48c8ec",
   "metadata": {},
   "outputs": [],
   "source": [
    "import random\n",
    "import torch\n",
    "import torch.nn as nn\n",
    "\n",
    "seed = 0\n",
    "\n",
    "random.seed(seed)\n",
    "np.random.seed(seed)\n",
    "torch.manual_seed(seed)\n",
    "torch.cuda.manual_seed(seed)\n",
    "torch.backends.cudnn.deterministic = True"
   ]
  },
  {
   "cell_type": "code",
   "execution_count": 13,
   "id": "54df3aed",
   "metadata": {},
   "outputs": [
    {
     "name": "stdout",
     "output_type": "stream",
     "text": [
      "cpu\n"
     ]
    }
   ],
   "source": [
    "device = torch.device(\"cuda:0\" if torch.cuda.is_available() else \"cpu\")\n",
    "print(device)"
   ]
  },
  {
   "cell_type": "code",
   "execution_count": 14,
   "id": "a986e674",
   "metadata": {},
   "outputs": [],
   "source": [
    "class Net(nn.Module):\n",
    "    def __init__(self, vocab_size=20, embedding_dim=128, out_channel=128, num_classes=1):\n",
    "        super().__init__()\n",
    "        self.embedding = nn.Embedding(vocab_size, embedding_dim)\n",
    "        self.conv = nn.Conv1d(embedding_dim, out_channel, kernel_size=3)\n",
    "        self.relu = nn.ReLU()\n",
    "        self.linear = nn.Linear(out_channel, num_classes)\n",
    "        \n",
    "    def forward(self, x):        \n",
    "        output = self.embedding(x)\n",
    "        #                       B  F  L         \n",
    "        output = output.permute(0, 2, 1)\n",
    "        output = self.conv(output)\n",
    "        output = self.relu(output)\n",
    "        output = torch.max(output, axis=2).values\n",
    "        output = self.linear(output)\n",
    "        \n",
    "        return output"
   ]
  },
  {
   "cell_type": "code",
   "execution_count": 15,
   "id": "d95c1cb4",
   "metadata": {},
   "outputs": [],
   "source": [
    "from torch.utils.data import DataLoader, Dataset\n",
    "\n",
    "class DataWrapper(Dataset):\n",
    "    def __init__(self, data, target=None, transform=None):\n",
    "        self.data = torch.from_numpy(data).long()\n",
    "        if target is not None:\n",
    "            self.target = torch.from_numpy(target).long()\n",
    "        self.transform = transform\n",
    "        \n",
    "    def __getitem__(self, index):\n",
    "        x = self.data[index]\n",
    "        if self.target is not None:\n",
    "            y = np.zeros(20, dtype=float)\n",
    "            y[self.target[index]] = 1\n",
    "        else:\n",
    "            y = None\n",
    "        y = self.target[index] if self.target is not None else None\n",
    "        \n",
    "        if self.transform:\n",
    "            x = self.transform(x)\n",
    "            \n",
    "        return x, y\n",
    "    \n",
    "    def __len__(self):\n",
    "        return len(self.data)"
   ]
  },
  {
   "cell_type": "code",
   "execution_count": 16,
   "id": "73f17001",
   "metadata": {},
   "outputs": [],
   "source": [
    "class Trainer():\n",
    "    \"\"\"\n",
    "    Parameters:\n",
    "        dataset: пользовательский класс, предобрабатывающий данные\n",
    "        train_preprocessing: преобразования тренировочных данных\n",
    "        valid_preprocessing: преобразования валидационных данных\n",
    "        \n",
    "        loss_f: функция потерь\n",
    "        learning_rate: величина градиентного шага\n",
    "        epoch_amount: общее количество эпох\n",
    "        batch_size: размер одного бача\n",
    "        max_batches_per_epoch: максимальное количество батчей, \n",
    "                               подаваемых в модель в одну эпоху\n",
    "        device: устройство для вычислений\n",
    "        early_stopping: количество эпох без улучшений до остановки обучения\n",
    "        \n",
    "        optim: оптимизатор\n",
    "        params_to_update: список обучаемых параметров\n",
    "        \n",
    "        scheduler: регулятор градиентного шага\n",
    "        permutate: перемешивание тренировочной выборки перед обучением\n",
    "\n",
    "    Attributes:\n",
    "        start_model: необученная модель\n",
    "        best_model: модель, после обучения\n",
    "        train_loss: средние значения функции потерь на тренировочных \n",
    "                    данных в каждой эпохе\n",
    "        val_loss: средние значения функции потерь на валидационных \n",
    "                  данных в каждой эпохе\n",
    "\n",
    "    Methods:\n",
    "        fit: обучение модели\n",
    "        predict: возвращает предсказание обученной моделью\n",
    "\n",
    "    \"\"\"\n",
    "    def __init__(self,  dataset, net, loss_f,\n",
    "                 train_preprocessing=None,\n",
    "                 valid_preprocessing=None,\n",
    "                 learning_rate=1e-3, \n",
    "                 epoch_amount=10, batch_size=12,\n",
    "                 max_batches_per_epoch=None,\n",
    "                 device='cpu', early_stopping=10,\n",
    "                 optim=torch.optim.Adam,\n",
    "                 params_to_update=None,\n",
    "                 scheduler=None, permutate=True):\n",
    "        \n",
    "        self.loss_f = loss_f\n",
    "        self.learning_rate = learning_rate\n",
    "        self.epoch_amount = epoch_amount\n",
    "        self.batch_size = batch_size\n",
    "        self.max_batches_per_epoch = max_batches_per_epoch\n",
    "        self.device = device\n",
    "        self.early_stopping = early_stopping\n",
    "        \n",
    "        self.optim = optim\n",
    "        self.params_to_update = params_to_update\n",
    "        \n",
    "        self.scheduler = scheduler\n",
    "        self.permutate = permutate\n",
    "        self.dataset = dataset\n",
    "        self.train_preprocessing = train_preprocessing\n",
    "        self.valid_preprocessing = valid_preprocessing\n",
    "        \n",
    "        self.start_model = net\n",
    "        self.best_model = net\n",
    "\n",
    "        self.train_loss = []\n",
    "        self.val_loss = []\n",
    "    \n",
    "    def predict(self, X):\n",
    "        return self.best_model(X)\n",
    "\n",
    "    def fit(self, train_dataset, train_labels, valid_dataset, valid_labels):\n",
    "\n",
    "        Net = self.start_model\n",
    "            \n",
    "        device = torch.device(self.device)\n",
    "\n",
    "        Net.to(self.device)\n",
    "\n",
    "        if self.params_to_update is not None:\n",
    "            optimizer = self.optim(self.params_to_update, lr=self.learning_rate)\n",
    "        else:\n",
    "            optimizer = self.optim(Net.parameters(), lr=self.learning_rate)\n",
    "\n",
    "        if self.scheduler is not None:\n",
    "            scheduler = self.scheduler(optimizer)\n",
    "\n",
    "        train = self.dataset(train_dataset, train_labels, self.train_preprocessing)\n",
    "        val = self.dataset(valid_dataset, valid_labels, self.valid_preprocessing)  \n",
    "\n",
    "        train = DataLoader(train, batch_size=self.batch_size, shuffle=self.permutate) \n",
    "        val = DataLoader(val, batch_size=self.batch_size, shuffle=False)\n",
    "\n",
    "        best_val_loss = float('inf') # Лучшее значение функции потерь на валидационной выборке\n",
    "        best_ep = 0                  # Эпоха, на которой достигалось лучшее \n",
    "                                     # значение функции потерь на валидационной выборке\n",
    "\n",
    "        for epoch in range(self.epoch_amount): \n",
    "            start = dt.datetime.now()\n",
    "            print(f'Эпоха: {epoch}', end=' ')\n",
    "            Net.train()\n",
    "            mean_loss = 0\n",
    "            batch_n = 0\n",
    "\n",
    "            for batch_X, target in train:\n",
    "                if self.max_batches_per_epoch is not None:\n",
    "                    if batch_n >= self.max_batches_per_epoch:\n",
    "                        break\n",
    "                optimizer.zero_grad()\n",
    "\n",
    "                batch_X = batch_X.to(self.device)\n",
    "                target = target.to(self.device)\n",
    "\n",
    "                predicted_values = Net(batch_X)\n",
    "                loss = self.loss_f(predicted_values, target)\n",
    "                loss.backward()\n",
    "                optimizer.step()\n",
    "\n",
    "                mean_loss += float(loss)\n",
    "                batch_n += 1\n",
    "        \n",
    "            mean_loss /= batch_n\n",
    "            self.train_loss.append(mean_loss)\n",
    "            print(f'Loss_train: {mean_loss}, {dt.datetime.now() - start} сек')\n",
    "\n",
    "            Net.eval()\n",
    "            mean_loss = 0\n",
    "            batch_n = 0\n",
    "\n",
    "            with torch.no_grad():\n",
    "                for batch_X, target in val:\n",
    "                    if self.max_batches_per_epoch is not None:\n",
    "                        if batch_n >= self.max_batches_per_epoch:\n",
    "                            break\n",
    "                batch_X = batch_X.to(self.device)\n",
    "                target = target.to(self.device)\n",
    "\n",
    "                predicted_values = Net(batch_X)\n",
    "                loss = self.loss_f(predicted_values, target)\n",
    "\n",
    "                mean_loss += float(loss)\n",
    "                batch_n += 1\n",
    "        \n",
    "            mean_loss /= batch_n\n",
    "            self.val_loss.append(mean_loss)\n",
    "            print(f'Loss_val: {mean_loss}')\n",
    "\n",
    "            if mean_loss < best_val_loss:\n",
    "                self.best_model = Net\n",
    "                best_val_loss = mean_loss\n",
    "                best_ep = epoch\n",
    "            elif epoch - best_ep > self.early_stopping:\n",
    "                print(f'{self.early_stopping} без улучшений. Прекращаем обучение...')\n",
    "                break\n",
    "            if self.scheduler is not None:\n",
    "                scheduler.step()\n",
    "            print()\n",
    "\n",
    "    def save_model(self, PATH):\n",
    "        torch.save(self.best_model.state_dict(), PATH)\n",
    "\n",
    "    def load_model(self, PATH):\n",
    "         self.best_model.load_state_dict(torch.load(PATH))       \n",
    "        \n",
    "    def get_clf_results(self, test_dataset, test_labels):\n",
    "        test = self.dataset(test_dataset, test_labels, self.valid_preprocessing)\n",
    "        test = DataLoader(test, batch_size=self.batch_size, shuffle=False)\n",
    "        \n",
    "        true_labels = []\n",
    "        pred_labels = []\n",
    "        with torch.no_grad():\n",
    "            for batch_X, labels in test:\n",
    "                true_labels += list(labels.numpy())\n",
    "                batch_X = batch_X.to(self.device)\n",
    "                labels = labels.to(self.device)\n",
    "\n",
    "                outputs = self.predict(batch_X)\n",
    "                _, predicted = torch.max(outputs.data, 1)\n",
    "                \n",
    "                pred_labels += list(predicted.numpy())\n",
    "        return true_labels, pred_labels "
   ]
  },
  {
   "cell_type": "markdown",
   "id": "3816edb3",
   "metadata": {
    "colab_type": "text",
    "id": "qEyvOxoOJDTP"
   },
   "source": [
    "### Вариант 1"
   ]
  },
  {
   "cell_type": "code",
   "execution_count": 17,
   "id": "d096a66a",
   "metadata": {},
   "outputs": [
    {
     "name": "stdout",
     "output_type": "stream",
     "text": [
      "Net(\n",
      "  (embedding): Embedding(2000, 128)\n",
      "  (conv): Conv1d(128, 128, kernel_size=(3,), stride=(1,))\n",
      "  (relu): ReLU()\n",
      "  (linear): Linear(in_features=128, out_features=20, bias=True)\n",
      ")\n",
      "Parameters: 307860\n"
     ]
    }
   ],
   "source": [
    "net = Net(vocab_size=2000, num_classes=20)\n",
    "\n",
    "print(net)\n",
    "print(\"Parameters:\", sum([param.nelement() for param in net.parameters()]))"
   ]
  },
  {
   "cell_type": "code",
   "execution_count": 18,
   "id": "4e4a348e",
   "metadata": {
    "scrolled": true
   },
   "outputs": [
    {
     "name": "stdout",
     "output_type": "stream",
     "text": [
      "x_train.shape: (7919, 40)\n",
      "x_val.shape: (3395, 40)\n",
      "x_test.shape: (7532, 40)\n"
     ]
    }
   ],
   "source": [
    "x_train, x_val, x_test, vocabulary = prepare_data(2000, 40)"
   ]
  },
  {
   "cell_type": "code",
   "execution_count": 19,
   "id": "5afbeb0a",
   "metadata": {},
   "outputs": [],
   "source": [
    "params = {\n",
    "    'dataset': DataWrapper,\n",
    "    'net': net,\n",
    "    'batch_size': 128,\n",
    "    'epoch_amount': 20, \n",
    "    'learning_rate': 1e-3,\n",
    "    'early_stopping': 5,\n",
    "    'loss_f': nn.CrossEntropyLoss(),\n",
    "    'optim': torch.optim.Adam,\n",
    "    'device': device\n",
    "}\n",
    "\n",
    "clf1 = Trainer(**params)"
   ]
  },
  {
   "cell_type": "code",
   "execution_count": 20,
   "id": "3fca9ee9",
   "metadata": {},
   "outputs": [
    {
     "name": "stdout",
     "output_type": "stream",
     "text": [
      "Эпоха: 0 Loss_train: 2.892477789232808, 0:00:01.305438 сек\n",
      "Loss_val: 2.591179370880127\n",
      "\n",
      "Эпоха: 1 Loss_train: 2.3923472358334448, 0:00:01.263132 сек\n",
      "Loss_val: 2.162706136703491\n",
      "\n",
      "Эпоха: 2 Loss_train: 1.8974498702633766, 0:00:01.283223 сек\n",
      "Loss_val: 1.8835948705673218\n",
      "\n",
      "Эпоха: 3 Loss_train: 1.5010481784420628, 0:00:01.301340 сек\n",
      "Loss_val: 1.5834225416183472\n",
      "\n",
      "Эпоха: 4 Loss_train: 1.1928060958462376, 0:00:01.272587 сек\n",
      "Loss_val: 1.3701037168502808\n",
      "\n",
      "Эпоха: 5 Loss_train: 0.9501859872571884, 0:00:01.283834 сек\n",
      "Loss_val: 1.2787593603134155\n",
      "\n",
      "Эпоха: 6 Loss_train: 0.7483554549755589, 0:00:01.304140 сек\n",
      "Loss_val: 1.167518138885498\n",
      "\n",
      "Эпоха: 7 Loss_train: 0.587787504638395, 0:00:01.322534 сек\n",
      "Loss_val: 1.1039100885391235\n",
      "\n",
      "Эпоха: 8 Loss_train: 0.454951096926966, 0:00:01.314482 сек\n",
      "Loss_val: 1.0657563209533691\n",
      "\n",
      "Эпоха: 9 Loss_train: 0.3508532076112686, 0:00:01.303065 сек\n",
      "Loss_val: 1.071459174156189\n",
      "\n",
      "Эпоха: 10 Loss_train: 0.2682529824876016, 0:00:01.315749 сек\n",
      "Loss_val: 1.0014381408691406\n",
      "\n",
      "Эпоха: 11 Loss_train: 0.20607323487920146, 0:00:01.299813 сек\n",
      "Loss_val: 0.957898736000061\n",
      "\n",
      "Эпоха: 12 Loss_train: 0.1554454736892254, 0:00:01.311470 сек\n",
      "Loss_val: 1.001073956489563\n",
      "\n",
      "Эпоха: 13 Loss_train: 0.12021705352010266, 0:00:01.294024 сек\n",
      "Loss_val: 0.9911646842956543\n",
      "\n",
      "Эпоха: 14 Loss_train: 0.09465838860600226, 0:00:01.306479 сек\n",
      "Loss_val: 0.9894530177116394\n",
      "\n",
      "Эпоха: 15 Loss_train: 0.0765884779393673, 0:00:01.293411 сек\n",
      "Loss_val: 1.0450236797332764\n",
      "\n",
      "Эпоха: 16 Loss_train: 0.0628048928394433, 0:00:01.354887 сек\n",
      "Loss_val: 0.9868283867835999\n",
      "\n",
      "Эпоха: 17 Loss_train: 0.051893677562475204, 0:00:01.283926 сек\n",
      "Loss_val: 1.0156285762786865\n",
      "5 без улучшений. Прекращаем обучение...\n"
     ]
    }
   ],
   "source": [
    "clf1.fit(x_train, y_train, x_val, y_val)"
   ]
  },
  {
   "cell_type": "code",
   "execution_count": 21,
   "id": "86ede268",
   "metadata": {},
   "outputs": [],
   "source": [
    "true_labels, pred_labels = clf1.get_clf_results(x_test, y_test)"
   ]
  },
  {
   "cell_type": "code",
   "execution_count": 22,
   "id": "1473b308",
   "metadata": {},
   "outputs": [
    {
     "data": {
      "text/plain": [
       "<sklearn.metrics._plot.confusion_matrix.ConfusionMatrixDisplay at 0x225a0817070>"
      ]
     },
     "execution_count": 22,
     "metadata": {},
     "output_type": "execute_result"
    },
    {
     "data": {
      "image/png": "[encoded data removed]",
      "text/plain": [
       "<Figure size 432x288 with 2 Axes>"
      ]
     },
     "metadata": {
      "needs_background": "light"
     },
     "output_type": "display_data"
    }
   ],
   "source": [
    "disp = ConfusionMatrixDisplay(confusion_matrix=confusion_matrix(true_labels, pred_labels))\n",
    "disp.plot()"
   ]
  },
  {
   "cell_type": "code",
   "execution_count": 23,
   "id": "9e4f992a",
   "metadata": {},
   "outputs": [
    {
     "name": "stdout",
     "output_type": "stream",
     "text": [
      "              precision    recall  f1-score   support\n",
      "\n",
      "           0       0.38      0.39      0.39       319\n",
      "           1       0.43      0.45      0.44       389\n",
      "           2       0.53      0.53      0.53       394\n",
      "           3       0.41      0.48      0.44       392\n",
      "           4       0.50      0.47      0.48       385\n",
      "           5       0.57      0.58      0.58       395\n",
      "           6       0.70      0.71      0.70       390\n",
      "           7       0.53      0.63      0.57       396\n",
      "           8       0.78      0.70      0.74       398\n",
      "           9       0.58      0.53      0.55       397\n",
      "          10       0.72      0.72      0.72       399\n",
      "          11       0.61      0.65      0.63       396\n",
      "          12       0.37      0.32      0.34       393\n",
      "          13       0.43      0.41      0.42       396\n",
      "          14       0.55      0.57      0.56       394\n",
      "          15       0.56      0.56      0.56       398\n",
      "          16       0.46      0.54      0.50       364\n",
      "          17       0.78      0.55      0.65       376\n",
      "          18       0.41      0.41      0.41       310\n",
      "          19       0.31      0.30      0.30       251\n",
      "\n",
      "    accuracy                           0.53      7532\n",
      "   macro avg       0.53      0.53      0.53      7532\n",
      "weighted avg       0.54      0.53      0.53      7532\n",
      "\n"
     ]
    }
   ],
   "source": [
    "print(classification_report(true_labels, pred_labels))"
   ]
  },
  {
   "cell_type": "markdown",
   "id": "5de0fdba",
   "metadata": {
    "colab_type": "text",
    "id": "qEyvOxoOJDTP"
   },
   "source": [
    "### Вариант 2"
   ]
  },
  {
   "cell_type": "code",
   "execution_count": 24,
   "id": "aa83056e",
   "metadata": {
    "scrolled": true
   },
   "outputs": [
    {
     "name": "stdout",
     "output_type": "stream",
     "text": [
      "Net(\n",
      "  (embedding): Embedding(2000, 256)\n",
      "  (conv): Conv1d(256, 256, kernel_size=(3,), stride=(1,))\n",
      "  (relu): ReLU()\n",
      "  (linear): Linear(in_features=256, out_features=20, bias=True)\n",
      ")\n",
      "Parameters: 714004\n"
     ]
    }
   ],
   "source": [
    "net = Net(vocab_size=2000, embedding_dim=256, out_channel=256, num_classes=20)\n",
    "\n",
    "print(net)\n",
    "print(\"Parameters:\", sum([param.nelement() for param in net.parameters()]))"
   ]
  },
  {
   "cell_type": "code",
   "execution_count": 25,
   "id": "96a5778b",
   "metadata": {},
   "outputs": [],
   "source": [
    "params = {\n",
    "    'dataset': DataWrapper,\n",
    "    'net': net,\n",
    "    'batch_size': 128,\n",
    "    'epoch_amount': 20, \n",
    "    'learning_rate': 1e-3,\n",
    "    'early_stopping': 5,\n",
    "    'loss_f': nn.CrossEntropyLoss(),\n",
    "    'optim': torch.optim.Adam,\n",
    "    'device': device\n",
    "}\n",
    "\n",
    "clf2 = Trainer(**params)"
   ]
  },
  {
   "cell_type": "code",
   "execution_count": 26,
   "id": "da192a58",
   "metadata": {},
   "outputs": [
    {
     "name": "stdout",
     "output_type": "stream",
     "text": [
      "Эпоха: 0 Loss_train: 2.6708354027040544, 0:00:03.226663 сек\n",
      "Loss_val: 2.1437768936157227\n",
      "\n",
      "Эпоха: 1 Loss_train: 1.6179502664073822, 0:00:03.073457 сек\n",
      "Loss_val: 1.5806084871292114\n",
      "\n",
      "Эпоха: 2 Loss_train: 1.0093960387091483, 0:00:03.084451 сек\n",
      "Loss_val: 1.396848201751709\n",
      "\n",
      "Эпоха: 3 Loss_train: 0.6204892944905066, 0:00:03.110625 сек\n",
      "Loss_val: 1.3099467754364014\n",
      "\n",
      "Эпоха: 4 Loss_train: 0.35324086825693807, 0:00:03.216397 сек\n",
      "Loss_val: 1.1848269701004028\n",
      "\n",
      "Эпоха: 5 Loss_train: 0.19483923263126804, 0:00:03.110122 сек\n",
      "Loss_val: 1.1981743574142456\n",
      "\n",
      "Эпоха: 6 Loss_train: 0.11092558455082678, 0:00:03.124910 сек\n",
      "Loss_val: 1.2205407619476318\n",
      "\n",
      "Эпоха: 7 Loss_train: 0.07127487659454346, 0:00:03.125932 сек\n",
      "Loss_val: 1.247824788093567\n",
      "\n",
      "Эпоха: 8 Loss_train: 0.050461026809869275, 0:00:03.137096 сек\n",
      "Loss_val: 1.2714968919754028\n",
      "\n",
      "Эпоха: 9 Loss_train: 0.03811503433051609, 0:00:03.115188 сек\n",
      "Loss_val: 1.2589645385742188\n",
      "\n",
      "Эпоха: 10 Loss_train: 0.031228714862898473, 0:00:03.070929 сек\n",
      "Loss_val: 1.2735686302185059\n",
      "5 без улучшений. Прекращаем обучение...\n"
     ]
    }
   ],
   "source": [
    "clf2.fit(x_train, y_train, x_val, y_val)"
   ]
  },
  {
   "cell_type": "code",
   "execution_count": 27,
   "id": "ed7e14e9",
   "metadata": {},
   "outputs": [],
   "source": [
    "true_labels, pred_labels = clf2.get_clf_results(x_test, y_test)"
   ]
  },
  {
   "cell_type": "code",
   "execution_count": 28,
   "id": "c729ec46",
   "metadata": {},
   "outputs": [
    {
     "name": "stdout",
     "output_type": "stream",
     "text": [
      "              precision    recall  f1-score   support\n",
      "\n",
      "           0       0.43      0.49      0.46       319\n",
      "           1       0.50      0.53      0.52       389\n",
      "           2       0.59      0.58      0.59       394\n",
      "           3       0.51      0.47      0.49       392\n",
      "           4       0.64      0.54      0.59       385\n",
      "           5       0.63      0.65      0.64       395\n",
      "           6       0.80      0.70      0.75       390\n",
      "           7       0.59      0.66      0.62       396\n",
      "           8       0.78      0.77      0.78       398\n",
      "           9       0.61      0.63      0.62       397\n",
      "          10       0.78      0.74      0.76       399\n",
      "          11       0.69      0.69      0.69       396\n",
      "          12       0.35      0.48      0.40       393\n",
      "          13       0.57      0.53      0.55       396\n",
      "          14       0.65      0.63      0.64       394\n",
      "          15       0.58      0.55      0.56       398\n",
      "          16       0.52      0.57      0.54       364\n",
      "          17       0.78      0.65      0.71       376\n",
      "          18       0.45      0.39      0.42       310\n",
      "          19       0.27      0.27      0.27       251\n",
      "\n",
      "    accuracy                           0.59      7532\n",
      "   macro avg       0.59      0.58      0.58      7532\n",
      "weighted avg       0.59      0.59      0.59      7532\n",
      "\n"
     ]
    }
   ],
   "source": [
    "print(classification_report(true_labels, pred_labels))"
   ]
  },
  {
   "cell_type": "markdown",
   "id": "ecc53f65",
   "metadata": {
    "colab_type": "text",
    "id": "qEyvOxoOJDTP"
   },
   "source": [
    "### Вариант 3"
   ]
  },
  {
   "cell_type": "code",
   "execution_count": 29,
   "id": "c55b45ac",
   "metadata": {},
   "outputs": [
    {
     "name": "stdout",
     "output_type": "stream",
     "text": [
      "Net(\n",
      "  (embedding): Embedding(2000, 128)\n",
      "  (conv): Conv1d(128, 128, kernel_size=(3,), stride=(1,))\n",
      "  (relu): ReLU()\n",
      "  (linear): Linear(in_features=128, out_features=20, bias=True)\n",
      ")\n",
      "Parameters: 307860\n"
     ]
    }
   ],
   "source": [
    "net = Net(vocab_size=2000, num_classes=20)\n",
    "\n",
    "print(net)\n",
    "print(\"Parameters:\", sum([param.nelement() for param in net.parameters()]))"
   ]
  },
  {
   "cell_type": "code",
   "execution_count": 30,
   "id": "21307e56",
   "metadata": {
    "scrolled": true
   },
   "outputs": [
    {
     "name": "stdout",
     "output_type": "stream",
     "text": [
      "x_train.shape: (7919, 60)\n",
      "x_val.shape: (3395, 60)\n",
      "x_test.shape: (7532, 60)\n"
     ]
    }
   ],
   "source": [
    "x_train, x_val, x_test, vocabulary = prepare_data(2000, 60)"
   ]
  },
  {
   "cell_type": "code",
   "execution_count": 31,
   "id": "1e5b2921",
   "metadata": {},
   "outputs": [],
   "source": [
    "params = {\n",
    "    'dataset': DataWrapper,\n",
    "    'net': net,\n",
    "    'batch_size': 128,\n",
    "    'epoch_amount': 20, \n",
    "    'learning_rate': 1e-3,\n",
    "    'early_stopping': 5,\n",
    "    'loss_f': nn.CrossEntropyLoss(),\n",
    "    'optim': torch.optim.Adam,\n",
    "    'device': device\n",
    "}\n",
    "\n",
    "clf3 = Trainer(**params)"
   ]
  },
  {
   "cell_type": "code",
   "execution_count": 32,
   "id": "9426a6d3",
   "metadata": {},
   "outputs": [
    {
     "name": "stdout",
     "output_type": "stream",
     "text": [
      "Эпоха: 0 Loss_train: 2.863185082712481, 0:00:02.092023 сек\n",
      "Loss_val: 2.559260368347168\n",
      "\n",
      "Эпоха: 1 Loss_train: 2.319067701216667, 0:00:01.856185 сек\n",
      "Loss_val: 2.0309574604034424\n",
      "\n",
      "Эпоха: 2 Loss_train: 1.7641369450476863, 0:00:01.852767 сек\n",
      "Loss_val: 1.606308937072754\n",
      "\n",
      "Эпоха: 3 Loss_train: 1.358144248685529, 0:00:01.851885 сек\n",
      "Loss_val: 1.4103556871414185\n",
      "\n",
      "Эпоха: 4 Loss_train: 1.0650572132679723, 0:00:01.840635 сек\n",
      "Loss_val: 1.2286466360092163\n",
      "\n",
      "Эпоха: 5 Loss_train: 0.8412974178791046, 0:00:01.870742 сек\n",
      "Loss_val: 1.225083827972412\n",
      "\n",
      "Эпоха: 6 Loss_train: 0.6618785459187723, 0:00:01.860106 сек\n",
      "Loss_val: 1.0982606410980225\n",
      "\n",
      "Эпоха: 7 Loss_train: 0.5168377699390534, 0:00:01.852272 сек\n",
      "Loss_val: 1.0875260829925537\n",
      "\n",
      "Эпоха: 8 Loss_train: 0.40152754274106794, 0:00:01.841280 сек\n",
      "Loss_val: 1.0213462114334106\n",
      "\n",
      "Эпоха: 9 Loss_train: 0.3078325316309929, 0:00:01.830392 сек\n",
      "Loss_val: 1.0045469999313354\n",
      "\n",
      "Эпоха: 10 Loss_train: 0.23647708806299395, 0:00:01.838719 сек\n",
      "Loss_val: 1.060035228729248\n",
      "\n",
      "Эпоха: 11 Loss_train: 0.18036868279018708, 0:00:01.861657 сек\n",
      "Loss_val: 1.008772850036621\n",
      "\n",
      "Эпоха: 12 Loss_train: 0.13858040133791585, 0:00:01.939840 сек\n",
      "Loss_val: 1.0259698629379272\n",
      "\n",
      "Эпоха: 13 Loss_train: 0.1070161143377904, 0:00:01.842143 сек\n",
      "Loss_val: 1.0183448791503906\n",
      "\n",
      "Эпоха: 14 Loss_train: 0.08467239153481299, 0:00:01.863013 сек\n",
      "Loss_val: 1.0010712146759033\n",
      "\n",
      "Эпоха: 15 Loss_train: 0.06841202296556965, 0:00:01.854838 сек\n",
      "Loss_val: 0.9976089000701904\n",
      "\n",
      "Эпоха: 16 Loss_train: 0.05607750855626598, 0:00:01.919034 сек\n",
      "Loss_val: 0.983849048614502\n",
      "\n",
      "Эпоха: 17 Loss_train: 0.04668142243979439, 0:00:01.898222 сек\n",
      "Loss_val: 1.035814642906189\n",
      "\n",
      "Эпоха: 18 Loss_train: 0.039696253055045684, 0:00:01.882360 сек\n",
      "Loss_val: 1.0120015144348145\n",
      "\n",
      "Эпоха: 19 Loss_train: 0.034177148774746924, 0:00:01.887926 сек\n",
      "Loss_val: 1.0203194618225098\n",
      "\n"
     ]
    }
   ],
   "source": [
    "clf3.fit(x_train, y_train, x_val, y_val)"
   ]
  },
  {
   "cell_type": "code",
   "execution_count": 33,
   "id": "3080279a",
   "metadata": {},
   "outputs": [],
   "source": [
    "true_labels, pred_labels = clf3.get_clf_results(x_test, y_test)"
   ]
  },
  {
   "cell_type": "code",
   "execution_count": 34,
   "id": "8abbea50",
   "metadata": {},
   "outputs": [
    {
     "name": "stdout",
     "output_type": "stream",
     "text": [
      "              precision    recall  f1-score   support\n",
      "\n",
      "           0       0.46      0.53      0.49       319\n",
      "           1       0.53      0.50      0.52       389\n",
      "           2       0.57      0.60      0.58       394\n",
      "           3       0.53      0.52      0.52       392\n",
      "           4       0.62      0.62      0.62       385\n",
      "           5       0.67      0.61      0.63       395\n",
      "           6       0.73      0.73      0.73       390\n",
      "           7       0.60      0.66      0.63       396\n",
      "           8       0.79      0.78      0.78       398\n",
      "           9       0.63      0.61      0.62       397\n",
      "          10       0.78      0.75      0.76       399\n",
      "          11       0.71      0.73      0.72       396\n",
      "          12       0.41      0.45      0.43       393\n",
      "          13       0.50      0.48      0.49       396\n",
      "          14       0.67      0.64      0.66       394\n",
      "          15       0.59      0.63      0.61       398\n",
      "          16       0.53      0.58      0.56       364\n",
      "          17       0.85      0.64      0.73       376\n",
      "          18       0.37      0.38      0.38       310\n",
      "          19       0.34      0.30      0.32       251\n",
      "\n",
      "    accuracy                           0.60      7532\n",
      "   macro avg       0.59      0.59      0.59      7532\n",
      "weighted avg       0.60      0.60      0.60      7532\n",
      "\n"
     ]
    }
   ],
   "source": [
    "print(classification_report(true_labels, pred_labels))"
   ]
  },
  {
   "cell_type": "markdown",
   "id": "91e404bf",
   "metadata": {
    "colab_type": "text",
    "id": "qEyvOxoOJDTP"
   },
   "source": [
    "### Вариант 4"
   ]
  },
  {
   "cell_type": "code",
   "execution_count": 35,
   "id": "8c0d9de7",
   "metadata": {
    "scrolled": true
   },
   "outputs": [
    {
     "name": "stdout",
     "output_type": "stream",
     "text": [
      "Net(\n",
      "  (embedding): Embedding(4000, 256)\n",
      "  (conv): Conv1d(256, 256, kernel_size=(3,), stride=(1,))\n",
      "  (relu): ReLU()\n",
      "  (linear): Linear(in_features=256, out_features=20, bias=True)\n",
      ")\n",
      "Parameters: 1226004\n"
     ]
    }
   ],
   "source": [
    "net = Net(vocab_size=4000, embedding_dim=256, out_channel=256, num_classes=20)\n",
    "\n",
    "print(net)\n",
    "print(\"Parameters:\", sum([param.nelement() for param in net.parameters()]))"
   ]
  },
  {
   "cell_type": "code",
   "execution_count": 36,
   "id": "d652349e",
   "metadata": {
    "scrolled": true
   },
   "outputs": [
    {
     "name": "stdout",
     "output_type": "stream",
     "text": [
      "x_train.shape: (7919, 60)\n",
      "x_val.shape: (3395, 60)\n",
      "x_test.shape: (7532, 60)\n"
     ]
    }
   ],
   "source": [
    "x_train, x_val, x_test, vocabulary = prepare_data(4000, 60)"
   ]
  },
  {
   "cell_type": "code",
   "execution_count": 37,
   "id": "431866f8",
   "metadata": {},
   "outputs": [],
   "source": [
    "params = {\n",
    "    'dataset': DataWrapper,\n",
    "    'net': net,\n",
    "    'batch_size': 128,\n",
    "    'epoch_amount': 20, \n",
    "    'learning_rate': 1e-3,\n",
    "    'early_stopping': 5,\n",
    "    'loss_f': nn.CrossEntropyLoss(),\n",
    "    'optim': torch.optim.Adam,\n",
    "    'device': device\n",
    "}\n",
    "\n",
    "clf4 = Trainer(**params)"
   ]
  },
  {
   "cell_type": "code",
   "execution_count": 38,
   "id": "4e87d61e",
   "metadata": {
    "scrolled": false
   },
   "outputs": [
    {
     "name": "stdout",
     "output_type": "stream",
     "text": [
      "Эпоха: 0 Loss_train: 2.6810218134234027, 0:00:04.476097 сек\n",
      "Loss_val: 2.0264363288879395\n",
      "\n",
      "Эпоха: 1 Loss_train: 1.6076948238957314, 0:00:04.662622 сек\n",
      "Loss_val: 1.4028271436691284\n",
      "\n",
      "Эпоха: 2 Loss_train: 0.971497203073194, 0:00:04.642546 сек\n",
      "Loss_val: 1.1022700071334839\n",
      "\n",
      "Эпоха: 3 Loss_train: 0.5743025810487808, 0:00:04.633481 сек\n",
      "Loss_val: 0.9899139404296875\n",
      "\n",
      "Эпоха: 4 Loss_train: 0.3123614776038354, 0:00:04.625826 сек\n",
      "Loss_val: 0.8539027571678162\n",
      "\n",
      "Эпоха: 5 Loss_train: 0.16365678560349248, 0:00:04.889597 сек\n",
      "Loss_val: 0.8046830296516418\n",
      "\n",
      "Эпоха: 6 Loss_train: 0.09388700584250112, 0:00:04.720815 сек\n",
      "Loss_val: 0.7860552072525024\n",
      "\n",
      "Эпоха: 7 Loss_train: 0.060313482618620316, 0:00:05.082388 сек\n",
      "Loss_val: 0.7936838865280151\n",
      "\n",
      "Эпоха: 8 Loss_train: 0.042749378229341196, 0:00:04.699041 сек\n",
      "Loss_val: 0.7911520004272461\n",
      "\n",
      "Эпоха: 9 Loss_train: 0.03246233747490952, 0:00:04.703639 сек\n",
      "Loss_val: 0.7571830749511719\n",
      "\n",
      "Эпоха: 10 Loss_train: 0.025161583727646257, 0:00:04.643803 сек\n",
      "Loss_val: 0.7604880928993225\n",
      "\n",
      "Эпоха: 11 Loss_train: 0.021523840575208588, 0:00:04.676815 сек\n",
      "Loss_val: 0.7471482753753662\n",
      "\n",
      "Эпоха: 12 Loss_train: 0.019096935693655285, 0:00:04.745179 сек\n",
      "Loss_val: 0.763709545135498\n",
      "\n",
      "Эпоха: 13 Loss_train: 0.014945462451226289, 0:00:04.582776 сек\n",
      "Loss_val: 0.768979549407959\n",
      "\n",
      "Эпоха: 14 Loss_train: 0.013820673924900832, 0:00:04.957093 сек\n",
      "Loss_val: 0.7813857197761536\n",
      "\n",
      "Эпоха: 15 Loss_train: 0.012482873509607969, 0:00:05.072211 сек\n",
      "Loss_val: 0.7713154554367065\n",
      "\n",
      "Эпоха: 16 Loss_train: 0.011394973506309813, 0:00:04.615320 сек\n",
      "Loss_val: 0.7772775292396545\n",
      "\n",
      "Эпоха: 17 Loss_train: 0.01090731689586274, 0:00:04.647039 сек\n",
      "Loss_val: 0.7923603057861328\n",
      "5 без улучшений. Прекращаем обучение...\n"
     ]
    }
   ],
   "source": [
    "clf4.fit(x_train, y_train, x_val, y_val)"
   ]
  },
  {
   "cell_type": "code",
   "execution_count": 39,
   "id": "3ebc6598",
   "metadata": {},
   "outputs": [],
   "source": [
    "true_labels, pred_labels = clf4.get_clf_results(x_test, y_test)"
   ]
  },
  {
   "cell_type": "code",
   "execution_count": 40,
   "id": "6894b406",
   "metadata": {},
   "outputs": [
    {
     "name": "stdout",
     "output_type": "stream",
     "text": [
      "              precision    recall  f1-score   support\n",
      "\n",
      "           0       0.47      0.48      0.48       319\n",
      "           1       0.54      0.59      0.56       389\n",
      "           2       0.65      0.62      0.64       394\n",
      "           3       0.54      0.55      0.55       392\n",
      "           4       0.66      0.62      0.64       385\n",
      "           5       0.67      0.69      0.68       395\n",
      "           6       0.81      0.70      0.75       390\n",
      "           7       0.65      0.68      0.67       396\n",
      "           8       0.80      0.79      0.80       398\n",
      "           9       0.69      0.69      0.69       397\n",
      "          10       0.80      0.81      0.81       399\n",
      "          11       0.76      0.73      0.75       396\n",
      "          12       0.38      0.50      0.43       393\n",
      "          13       0.60      0.57      0.59       396\n",
      "          14       0.78      0.70      0.74       394\n",
      "          15       0.61      0.69      0.65       398\n",
      "          16       0.62      0.64      0.63       364\n",
      "          17       0.86      0.67      0.76       376\n",
      "          18       0.45      0.45      0.45       310\n",
      "          19       0.40      0.39      0.40       251\n",
      "\n",
      "    accuracy                           0.64      7532\n",
      "   macro avg       0.64      0.63      0.63      7532\n",
      "weighted avg       0.65      0.64      0.64      7532\n",
      "\n"
     ]
    }
   ],
   "source": [
    "print(classification_report(true_labels, pred_labels))"
   ]
  },
  {
   "cell_type": "code",
   "execution_count": 41,
   "id": "021b2ca9",
   "metadata": {},
   "outputs": [],
   "source": [
    "def plot_loss():\n",
    "    plt.figure(figsize=(12, 5))\n",
    "    plt.plot(range(len(clf1.train_loss)), clf1.train_loss, label='train 1', linestyle='--')\n",
    "    plt.plot(range(len(clf1.val_loss)), clf1.val_loss, marker='o', label='val 1')\n",
    "    plt.plot(range(len(clf2.train_loss)), clf2.train_loss, label='train 2', linestyle='--')\n",
    "    plt.plot(range(len(clf2.val_loss)), clf2.val_loss, marker='o', label='val 2')\n",
    "    plt.plot(range(len(clf3.train_loss)), clf3.train_loss, label='train 3', linestyle='--')\n",
    "    plt.plot(range(len(clf3.val_loss)), clf3.val_loss, marker='o', label='val 3')\n",
    "    plt.plot(range(len(clf4.train_loss)), clf4.train_loss, label='train 4', linestyle='--')\n",
    "    plt.plot(range(len(clf4.val_loss)), clf4.val_loss, marker='o', label='val 4')\n",
    "    plt.legend()\n",
    "    plt.show()"
   ]
  },
  {
   "cell_type": "code",
   "execution_count": 42,
   "id": "312f4324",
   "metadata": {},
   "outputs": [
    {
     "data": {
      "image/png": "[encoded data removed]",
      "text/plain": [
       "<Figure size 864x360 with 1 Axes>"
      ]
     },
     "metadata": {
      "needs_background": "light"
     },
     "output_type": "display_data"
    }
   ],
   "source": [
    "plot_loss()"
   ]
  },
  {
   "cell_type": "markdown",
   "id": "94f0e884",
   "metadata": {},
   "source": [
    "__ВЫВОД:__ Как видно лучшие результаты показывает последняя модель."
   ]
  }
 ],
 "metadata": {
  "kernelspec": {
   "display_name": "Python 3 (ipykernel)",
   "language": "python",
   "name": "python3"
  },
  "language_info": {
   "codemirror_mode": {
    "name": "ipython",
    "version": 3
   },
   "file_extension": ".py",
   "mimetype": "text/x-python",
   "name": "python",
   "nbconvert_exporter": "python",
   "pygments_lexer": "ipython3",
   "version": "3.8.5"
  }
 },
 "nbformat": 4,
 "nbformat_minor": 5
}
