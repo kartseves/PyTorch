{
 "cells": [
  {
   "cell_type": "code",
   "execution_count": 1,
   "metadata": {},
   "outputs": [],
   "source": [
    "import torch"
   ]
  },
  {
   "cell_type": "code",
   "execution_count": 2,
   "metadata": {},
   "outputs": [],
   "source": [
    "def print_tens_info(tensor):\n",
    "    print(\"X :\\n%s\\n\" % tensor)\n",
    "    print(\"X количество измерений:\\n%s\\n\" % tensor.dim())\n",
    "    print(\"X размеры : \",  tensor.size())\n",
    "    print(\"X тип : %s\\n\" % (tensor.type()))"
   ]
  },
  {
   "cell_type": "code",
   "execution_count": 3,
   "metadata": {},
   "outputs": [
    {
     "name": "stdout",
     "output_type": "stream",
     "text": [
      "X :\n",
      "tensor([[[0.3036, 0.2947, 0.4591, 0.4405, 0.4538],\n",
      "         [0.8216, 0.1577, 0.2098, 0.4180, 0.3976],\n",
      "         [0.1014, 0.2534, 0.3700, 0.6927, 0.2444],\n",
      "         [0.4455, 0.4522, 0.6922, 0.7391, 0.9676]],\n",
      "\n",
      "        [[0.1533, 0.5271, 0.1999, 0.6976, 0.0489],\n",
      "         [0.3575, 0.7032, 0.4397, 0.2696, 0.4541],\n",
      "         [0.0911, 0.4179, 0.5227, 0.4387, 0.2667],\n",
      "         [0.3725, 0.1809, 0.6342, 0.4086, 0.2528]],\n",
      "\n",
      "        [[0.5300, 0.4356, 0.7280, 0.6394, 0.9412],\n",
      "         [0.6528, 0.8379, 0.4501, 0.1545, 0.7916],\n",
      "         [0.4579, 0.2651, 0.2046, 0.8257, 0.8879],\n",
      "         [0.7967, 0.8941, 0.4439, 0.6032, 0.7670]]])\n",
      "\n",
      "X количество измерений:\n",
      "3\n",
      "\n",
      "X размеры :  torch.Size([3, 4, 5])\n",
      "X тип : torch.FloatTensor\n",
      "\n"
     ]
    }
   ],
   "source": [
    "# Создайте случайный FloatTensor размера 3x4x5\n",
    "x = torch.rand(3, 4, 5)\n",
    "print_tens_info(x)"
   ]
  },
  {
   "cell_type": "code",
   "execution_count": 4,
   "metadata": {},
   "outputs": [
    {
     "data": {
      "text/plain": [
       "torch.Size([3, 4, 5])"
      ]
     },
     "execution_count": 4,
     "metadata": {},
     "output_type": "execute_result"
    }
   ],
   "source": [
    "# Выведите его форму (shape)\n",
    "x.shape"
   ]
  },
  {
   "cell_type": "code",
   "execution_count": 5,
   "metadata": {},
   "outputs": [
    {
     "name": "stdout",
     "output_type": "stream",
     "text": [
      "X :\n",
      "tensor([[0.3036, 0.2947, 0.4591, 0.4405, 0.4538, 0.8216, 0.1577, 0.2098, 0.4180,\n",
      "         0.3976],\n",
      "        [0.1014, 0.2534, 0.3700, 0.6927, 0.2444, 0.4455, 0.4522, 0.6922, 0.7391,\n",
      "         0.9676],\n",
      "        [0.1533, 0.5271, 0.1999, 0.6976, 0.0489, 0.3575, 0.7032, 0.4397, 0.2696,\n",
      "         0.4541],\n",
      "        [0.0911, 0.4179, 0.5227, 0.4387, 0.2667, 0.3725, 0.1809, 0.6342, 0.4086,\n",
      "         0.2528],\n",
      "        [0.5300, 0.4356, 0.7280, 0.6394, 0.9412, 0.6528, 0.8379, 0.4501, 0.1545,\n",
      "         0.7916],\n",
      "        [0.4579, 0.2651, 0.2046, 0.8257, 0.8879, 0.7967, 0.8941, 0.4439, 0.6032,\n",
      "         0.7670]])\n",
      "\n",
      "X количество измерений:\n",
      "2\n",
      "\n",
      "X размеры :  torch.Size([6, 10])\n",
      "X тип : torch.FloatTensor\n",
      "\n"
     ]
    }
   ],
   "source": [
    "# Приведите его к форме 6 X 10\n",
    "print_tens_info(x.view(6, 10))"
   ]
  },
  {
   "cell_type": "code",
   "execution_count": 6,
   "metadata": {},
   "outputs": [
    {
     "name": "stdout",
     "output_type": "stream",
     "text": [
      "X :\n",
      "tensor([[[0.3036, 1.1788, 0.9182, 0.8811, 0.4538],\n",
      "         [0.8216, 0.6307, 0.4196, 0.8360, 0.3976],\n",
      "         [0.1014, 1.0136, 0.7399, 1.3853, 0.2444],\n",
      "         [0.4455, 1.8089, 1.3845, 1.4782, 0.9676]],\n",
      "\n",
      "        [[0.1533, 2.1086, 0.3998, 1.3951, 0.0489],\n",
      "         [0.3575, 2.8128, 0.8795, 0.5391, 0.4541],\n",
      "         [0.0911, 1.6717, 1.0455, 0.8774, 0.2667],\n",
      "         [0.3725, 0.7236, 1.2684, 0.8172, 0.2528]],\n",
      "\n",
      "        [[0.5300, 1.7423, 1.4561, 1.2788, 0.9412],\n",
      "         [0.6528, 3.3515, 0.9001, 0.3089, 0.7916],\n",
      "         [0.4579, 1.0603, 0.4093, 1.6513, 0.8879],\n",
      "         [0.7967, 3.5764, 0.8877, 1.2065, 0.7670]]])\n",
      "\n",
      "X количество измерений:\n",
      "3\n",
      "\n",
      "X размеры :  torch.Size([3, 4, 5])\n",
      "X тип : torch.FloatTensor\n",
      "\n"
     ]
    }
   ],
   "source": [
    "# Умножьте его на вектор [1, 4, 2, 2, 1] поэлементно\n",
    "\n",
    "# Размер тензора должен иметь значение = 5 в последнем измерении\n",
    "# Умножаем исходный тензор размера 3x4x5 на вектор\n",
    "vector = torch.LongTensor([1, 4, 2, 2, 1])\n",
    "print_tens_info(x * vector)"
   ]
  },
  {
   "cell_type": "code",
   "execution_count": 7,
   "metadata": {},
   "outputs": [
    {
     "name": "stdout",
     "output_type": "stream",
     "text": [
      "X :\n",
      "tensor([[1.8665, 1.9676, 1.4133, 1.4441, 2.4745, 2.5235],\n",
      "        [1.9676, 3.1156, 2.1386, 1.9110, 2.9677, 3.2328],\n",
      "        [1.4133, 2.1386, 1.9249, 1.4221, 2.3700, 2.4899],\n",
      "        [1.4441, 1.9110, 1.4221, 1.5244, 2.0858, 2.0389],\n",
      "        [2.4745, 2.9677, 2.3700, 2.0858, 4.2765, 4.0401],\n",
      "        [2.5235, 3.2328, 2.4899, 2.0389, 4.0401, 4.3753]])\n",
      "\n",
      "X количество измерений:\n",
      "2\n",
      "\n",
      "X размеры :  torch.Size([6, 6])\n",
      "X тип : torch.FloatTensor\n",
      "\n"
     ]
    }
   ],
   "source": [
    "# Умножьте тензор матрично на себя, чтобы результат был размерности 6x6\n",
    "print_tens_info(torch.matmul(x.view(6,10), x.view(6,10).t()))"
   ]
  },
  {
   "cell_type": "code",
   "execution_count": 8,
   "metadata": {},
   "outputs": [],
   "source": [
    "# Посчитайте производную функции y = x**3 + z - 75t в точке (1, 0.5, 2)"
   ]
  },
  {
   "cell_type": "code",
   "execution_count": 9,
   "metadata": {},
   "outputs": [],
   "source": [
    "from torch.autograd import Variable"
   ]
  },
  {
   "cell_type": "code",
   "execution_count": 10,
   "metadata": {},
   "outputs": [],
   "source": [
    "x = Variable(torch.ones(3), requires_grad = True)\n",
    "z = Variable(torch.ones(3), requires_grad = True)\n",
    "t = Variable(torch.ones(3), requires_grad = True)\n",
    "\n",
    "y = x**3 + z - 75*t\n",
    "\n",
    "x_0 = torch.FloatTensor([1, 0.5, 2])"
   ]
  },
  {
   "cell_type": "code",
   "execution_count": 11,
   "metadata": {},
   "outputs": [
    {
     "name": "stdout",
     "output_type": "stream",
     "text": [
      "X :\n",
      "tensor([-73., -73., -73.], grad_fn=<SubBackward0>)\n",
      "\n",
      "X количество измерений:\n",
      "1\n",
      "\n",
      "X размеры :  torch.Size([3])\n",
      "X тип : torch.FloatTensor\n",
      "\n"
     ]
    }
   ],
   "source": [
    "print_tens_info(y)"
   ]
  },
  {
   "cell_type": "code",
   "execution_count": 12,
   "metadata": {},
   "outputs": [
    {
     "name": "stdout",
     "output_type": "stream",
     "text": [
      "None\n"
     ]
    }
   ],
   "source": [
    "print(x.grad)"
   ]
  },
  {
   "cell_type": "code",
   "execution_count": 13,
   "metadata": {},
   "outputs": [],
   "source": [
    "y.backward(x_0)"
   ]
  },
  {
   "cell_type": "code",
   "execution_count": 14,
   "metadata": {},
   "outputs": [
    {
     "name": "stdout",
     "output_type": "stream",
     "text": [
      "tensor([3.0000, 1.5000, 6.0000])\n",
      "tensor([1.0000, 0.5000, 2.0000])\n",
      "tensor([ -75.0000,  -37.5000, -150.0000])\n"
     ]
    }
   ],
   "source": [
    "print(x.grad)\n",
    "print(z.grad)\n",
    "print(t.grad)"
   ]
  },
  {
   "cell_type": "code",
   "execution_count": 15,
   "metadata": {},
   "outputs": [
    {
     "name": "stdout",
     "output_type": "stream",
     "text": [
      "X :\n",
      "tensor([[1., 0., 0., 0., 0., 0.],\n",
      "        [0., 1., 0., 0., 0., 0.],\n",
      "        [0., 0., 1., 0., 0., 0.],\n",
      "        [0., 0., 0., 1., 0., 0.],\n",
      "        [0., 0., 0., 0., 1., 0.]])\n",
      "\n",
      "X количество измерений:\n",
      "2\n",
      "\n",
      "X размеры :  torch.Size([5, 6])\n",
      "X тип : torch.FloatTensor\n",
      "\n"
     ]
    }
   ],
   "source": [
    "# Создайте единичный тензор размера 5x6\n",
    "x = torch.eye(5, 6)\n",
    "print_tens_info(x)"
   ]
  },
  {
   "cell_type": "code",
   "execution_count": 16,
   "metadata": {},
   "outputs": [
    {
     "data": {
      "text/plain": [
       "array([[1., 0., 0., 0., 0., 0.],\n",
       "       [0., 1., 0., 0., 0., 0.],\n",
       "       [0., 0., 1., 0., 0., 0.],\n",
       "       [0., 0., 0., 1., 0., 0.],\n",
       "       [0., 0., 0., 0., 1., 0.]], dtype=float32)"
      ]
     },
     "execution_count": 16,
     "metadata": {},
     "output_type": "execute_result"
    }
   ],
   "source": [
    "# Переведите его в формат numpy\n",
    "x = x.numpy()\n",
    "x"
   ]
  },
  {
   "cell_type": "code",
   "execution_count": 17,
   "metadata": {},
   "outputs": [],
   "source": [
    "# Давайте теперь пооптимизируем: возьмите функцию y = x**w1 - 2 * x**2 + 5\n",
    "# Посчитайте "
   ]
  },
  {
   "cell_type": "markdown",
   "metadata": {},
   "source": [
    "Похоже что задание до конца не сформулировано."
   ]
  }
 ],
 "metadata": {
  "kernelspec": {
   "display_name": "Python 3 (ipykernel)",
   "language": "python",
   "name": "python3"
  },
  "language_info": {
   "codemirror_mode": {
    "name": "ipython",
    "version": 3
   },
   "file_extension": ".py",
   "mimetype": "text/x-python",
   "name": "python",
   "nbconvert_exporter": "python",
   "pygments_lexer": "ipython3",
   "version": "3.8.5"
  }
 },
 "nbformat": 4,
 "nbformat_minor": 2
}
